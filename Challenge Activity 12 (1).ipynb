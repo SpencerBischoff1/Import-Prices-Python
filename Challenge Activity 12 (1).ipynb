{
 "cells": [
  {
   "cell_type": "code",
   "execution_count": 39,
   "id": "2b6ceba0",
   "metadata": {},
   "outputs": [],
   "source": [
    "import pandas as pd\n",
    "from matplotlib import pyplot as plt\n",
    "import matplotlib.dates as dates"
   ]
  },
  {
   "cell_type": "code",
   "execution_count": 40,
   "id": "dc88e978",
   "metadata": {},
   "outputs": [],
   "source": [
    "df = pd.read_csv('consumables.csv')"
   ]
  },
  {
   "cell_type": "code",
   "execution_count": 41,
   "id": "7417fbc8",
   "metadata": {},
   "outputs": [
    {
     "name": "stdout",
     "output_type": "stream",
     "text": [
      "<class 'pandas.core.frame.DataFrame'>\n",
      "RangeIndex: 108 entries, 0 to 107\n",
      "Data columns (total 5 columns):\n",
      " #   Column                               Non-Null Count  Dtype  \n",
      "---  ------                               --------------  -----  \n",
      " 0   year                                 108 non-null    int64  \n",
      " 1   month                                108 non-null    object \n",
      " 2   Cocoa and cocoa preparations         108 non-null    float64\n",
      " 3   Coffee, roasted or unroasted, decaf  108 non-null    float64\n",
      " 4   Tea, mate and spices                 108 non-null    float64\n",
      "dtypes: float64(3), int64(1), object(1)\n",
      "memory usage: 4.3+ KB\n"
     ]
    }
   ],
   "source": [
    "df.info()"
   ]
  },
  {
   "cell_type": "code",
   "execution_count": 42,
   "id": "59dba0f3",
   "metadata": {},
   "outputs": [
    {
     "data": {
      "text/html": [
       "<div>\n",
       "<style scoped>\n",
       "    .dataframe tbody tr th:only-of-type {\n",
       "        vertical-align: middle;\n",
       "    }\n",
       "\n",
       "    .dataframe tbody tr th {\n",
       "        vertical-align: top;\n",
       "    }\n",
       "\n",
       "    .dataframe thead th {\n",
       "        text-align: right;\n",
       "    }\n",
       "</style>\n",
       "<table border=\"1\" class=\"dataframe\">\n",
       "  <thead>\n",
       "    <tr style=\"text-align: right;\">\n",
       "      <th></th>\n",
       "      <th>year</th>\n",
       "      <th>month</th>\n",
       "      <th>Cocoa and cocoa preparations</th>\n",
       "      <th>Coffee, roasted or unroasted, decaf</th>\n",
       "      <th>Tea, mate and spices</th>\n",
       "    </tr>\n",
       "  </thead>\n",
       "  <tbody>\n",
       "    <tr>\n",
       "      <th>0</th>\n",
       "      <td>2010</td>\n",
       "      <td>Jan.</td>\n",
       "      <td>103.2</td>\n",
       "      <td>101.5</td>\n",
       "      <td>165.2</td>\n",
       "    </tr>\n",
       "    <tr>\n",
       "      <th>1</th>\n",
       "      <td>2010</td>\n",
       "      <td>Feb.</td>\n",
       "      <td>102.2</td>\n",
       "      <td>99.5</td>\n",
       "      <td>163.0</td>\n",
       "    </tr>\n",
       "    <tr>\n",
       "      <th>2</th>\n",
       "      <td>2010</td>\n",
       "      <td>Mar.</td>\n",
       "      <td>100.0</td>\n",
       "      <td>97.6</td>\n",
       "      <td>160.6</td>\n",
       "    </tr>\n",
       "    <tr>\n",
       "      <th>3</th>\n",
       "      <td>2010</td>\n",
       "      <td>Apr.</td>\n",
       "      <td>100.2</td>\n",
       "      <td>104.7</td>\n",
       "      <td>171.5</td>\n",
       "    </tr>\n",
       "    <tr>\n",
       "      <th>4</th>\n",
       "      <td>2010</td>\n",
       "      <td>May</td>\n",
       "      <td>104.5</td>\n",
       "      <td>102.0</td>\n",
       "      <td>168.3</td>\n",
       "    </tr>\n",
       "    <tr>\n",
       "      <th>...</th>\n",
       "      <td>...</td>\n",
       "      <td>...</td>\n",
       "      <td>...</td>\n",
       "      <td>...</td>\n",
       "      <td>...</td>\n",
       "    </tr>\n",
       "    <tr>\n",
       "      <th>103</th>\n",
       "      <td>2018</td>\n",
       "      <td>Aug.</td>\n",
       "      <td>96.5</td>\n",
       "      <td>118.8</td>\n",
       "      <td>209.0</td>\n",
       "    </tr>\n",
       "    <tr>\n",
       "      <th>104</th>\n",
       "      <td>2018</td>\n",
       "      <td>Sept.</td>\n",
       "      <td>98.4</td>\n",
       "      <td>113.7</td>\n",
       "      <td>201.5</td>\n",
       "    </tr>\n",
       "    <tr>\n",
       "      <th>105</th>\n",
       "      <td>2018</td>\n",
       "      <td>Oct.</td>\n",
       "      <td>96.7</td>\n",
       "      <td>115.9</td>\n",
       "      <td>204.6</td>\n",
       "    </tr>\n",
       "    <tr>\n",
       "      <th>106</th>\n",
       "      <td>2018</td>\n",
       "      <td>Nov.</td>\n",
       "      <td>97.2</td>\n",
       "      <td>119.4</td>\n",
       "      <td>208.8</td>\n",
       "    </tr>\n",
       "    <tr>\n",
       "      <th>107</th>\n",
       "      <td>2018</td>\n",
       "      <td>Dec.</td>\n",
       "      <td>96.8</td>\n",
       "      <td>119.8</td>\n",
       "      <td>207.3</td>\n",
       "    </tr>\n",
       "  </tbody>\n",
       "</table>\n",
       "<p>108 rows × 5 columns</p>\n",
       "</div>"
      ],
      "text/plain": [
       "     year  month  Cocoa and cocoa preparations    \\\n",
       "0    2010   Jan.                           103.2   \n",
       "1    2010   Feb.                           102.2   \n",
       "2    2010   Mar.                           100.0   \n",
       "3    2010   Apr.                           100.2   \n",
       "4    2010    May                           104.5   \n",
       "..    ...    ...                             ...   \n",
       "103  2018   Aug.                            96.5   \n",
       "104  2018  Sept.                            98.4   \n",
       "105  2018   Oct.                            96.7   \n",
       "106  2018   Nov.                            97.2   \n",
       "107  2018   Dec.                            96.8   \n",
       "\n",
       "     Coffee, roasted or unroasted, decaf  Tea, mate and spices  \n",
       "0                                  101.5                 165.2  \n",
       "1                                   99.5                 163.0  \n",
       "2                                   97.6                 160.6  \n",
       "3                                  104.7                 171.5  \n",
       "4                                  102.0                 168.3  \n",
       "..                                   ...                   ...  \n",
       "103                                118.8                 209.0  \n",
       "104                                113.7                 201.5  \n",
       "105                                115.9                 204.6  \n",
       "106                                119.4                 208.8  \n",
       "107                                119.8                 207.3  \n",
       "\n",
       "[108 rows x 5 columns]"
      ]
     },
     "execution_count": 42,
     "metadata": {},
     "output_type": "execute_result"
    }
   ],
   "source": [
    "df"
   ]
  },
  {
   "cell_type": "code",
   "execution_count": 43,
   "id": "3ccf7b97",
   "metadata": {},
   "outputs": [
    {
     "name": "stderr",
     "output_type": "stream",
     "text": [
      "/tmp/ipykernel_132378/1441149657.py:1: FutureWarning: The default value of numeric_only in DataFrameGroupBy.mean is deprecated. In a future version, numeric_only will default to False. Either specify numeric_only or select only columns which should be valid for the function.\n",
      "  monthlyAverage = df.groupby(['year']).mean()\n"
     ]
    }
   ],
   "source": [
    "monthlyAverage = df.groupby(['year']).mean()"
   ]
  },
  {
   "cell_type": "code",
   "execution_count": 44,
   "id": "93bd786f",
   "metadata": {},
   "outputs": [
    {
     "data": {
      "text/html": [
       "<div>\n",
       "<style scoped>\n",
       "    .dataframe tbody tr th:only-of-type {\n",
       "        vertical-align: middle;\n",
       "    }\n",
       "\n",
       "    .dataframe tbody tr th {\n",
       "        vertical-align: top;\n",
       "    }\n",
       "\n",
       "    .dataframe thead th {\n",
       "        text-align: right;\n",
       "    }\n",
       "</style>\n",
       "<table border=\"1\" class=\"dataframe\">\n",
       "  <thead>\n",
       "    <tr style=\"text-align: right;\">\n",
       "      <th></th>\n",
       "      <th>Cocoa and cocoa preparations</th>\n",
       "      <th>Coffee, roasted or unroasted, decaf</th>\n",
       "      <th>Tea, mate and spices</th>\n",
       "    </tr>\n",
       "    <tr>\n",
       "      <th>year</th>\n",
       "      <th></th>\n",
       "      <th></th>\n",
       "      <th></th>\n",
       "    </tr>\n",
       "  </thead>\n",
       "  <tbody>\n",
       "    <tr>\n",
       "      <th>2010</th>\n",
       "      <td>98.425000</td>\n",
       "      <td>113.600000</td>\n",
       "      <td>184.716667</td>\n",
       "    </tr>\n",
       "    <tr>\n",
       "      <th>2011</th>\n",
       "      <td>98.566667</td>\n",
       "      <td>178.241667</td>\n",
       "      <td>277.716667</td>\n",
       "    </tr>\n",
       "    <tr>\n",
       "      <th>2012</th>\n",
       "      <td>86.091667</td>\n",
       "      <td>166.608333</td>\n",
       "      <td>266.916667</td>\n",
       "    </tr>\n",
       "    <tr>\n",
       "      <th>2013</th>\n",
       "      <td>93.700000</td>\n",
       "      <td>137.966667</td>\n",
       "      <td>233.708333</td>\n",
       "    </tr>\n",
       "    <tr>\n",
       "      <th>2014</th>\n",
       "      <td>110.341667</td>\n",
       "      <td>145.325000</td>\n",
       "      <td>248.658333</td>\n",
       "    </tr>\n",
       "    <tr>\n",
       "      <th>2015</th>\n",
       "      <td>112.558333</td>\n",
       "      <td>132.733333</td>\n",
       "      <td>239.750000</td>\n",
       "    </tr>\n",
       "    <tr>\n",
       "      <th>2016</th>\n",
       "      <td>111.008333</td>\n",
       "      <td>124.983333</td>\n",
       "      <td>231.550000</td>\n",
       "    </tr>\n",
       "    <tr>\n",
       "      <th>2017</th>\n",
       "      <td>95.941667</td>\n",
       "      <td>127.825000</td>\n",
       "      <td>230.033333</td>\n",
       "    </tr>\n",
       "    <tr>\n",
       "      <th>2018</th>\n",
       "      <td>98.383333</td>\n",
       "      <td>119.633333</td>\n",
       "      <td>211.716667</td>\n",
       "    </tr>\n",
       "  </tbody>\n",
       "</table>\n",
       "</div>"
      ],
      "text/plain": [
       "      Cocoa and cocoa preparations    Coffee, roasted or unroasted, decaf  \\\n",
       "year                                                                        \n",
       "2010                       98.425000                           113.600000   \n",
       "2011                       98.566667                           178.241667   \n",
       "2012                       86.091667                           166.608333   \n",
       "2013                       93.700000                           137.966667   \n",
       "2014                      110.341667                           145.325000   \n",
       "2015                      112.558333                           132.733333   \n",
       "2016                      111.008333                           124.983333   \n",
       "2017                       95.941667                           127.825000   \n",
       "2018                       98.383333                           119.633333   \n",
       "\n",
       "      Tea, mate and spices  \n",
       "year                        \n",
       "2010            184.716667  \n",
       "2011            277.716667  \n",
       "2012            266.916667  \n",
       "2013            233.708333  \n",
       "2014            248.658333  \n",
       "2015            239.750000  \n",
       "2016            231.550000  \n",
       "2017            230.033333  \n",
       "2018            211.716667  "
      ]
     },
     "execution_count": 44,
     "metadata": {},
     "output_type": "execute_result"
    }
   ],
   "source": [
    "monthlyAverage"
   ]
  },
  {
   "cell_type": "code",
   "execution_count": 47,
   "id": "b86d1a14",
   "metadata": {},
   "outputs": [
    {
     "data": {
      "text/plain": [
       "[<matplotlib.lines.Line2D at 0x7fdf11420eb0>]"
      ]
     },
     "execution_count": 47,
     "metadata": {},
     "output_type": "execute_result"
    },
    {
     "data": {
      "image/png": "[encoded data removed]",
      "text/plain": [
       "<Figure size 640x480 with 1 Axes>"
      ]
     },
     "metadata": {},
     "output_type": "display_data"
    }
   ],
   "source": [
    "plt.xlabel('Year')\n",
    "plt.ylabel('Exported pounds (millions)')\n",
    "plt.title('Coffee, Tea and Cocoa\\nMonthly Average by Year')\n",
    "plt.legend(['Tea, mate and spices', 'Cocoa and cocoa preparations', 'Coffee, roasted or unroasted, decaf'], loc='right', title='Legend')\n",
    "\n",
    "plt.plot(monthlyAverage['Tea, mate and spices'], color = 'blue', marker='^')\n",
    "plt.plot(monthlyAverage['Cocoa and cocoa preparations  '], color = 'orange', marker='o')\n",
    "plt.plot(monthlyAverage['Coffee, roasted or unroasted, decaf'], color = 'green', marker='<')\n"
   ]
  },
  {
   "cell_type": "code",
   "execution_count": null,
   "id": "fd0555c9",
   "metadata": {},
   "outputs": [],
   "source": []
  }
 ],
 "metadata": {
  "kernelspec": {
   "display_name": "Python 3 (ipykernel)",
   "language": "python",
   "name": "python3"
  },
  "language_info": {
   "codemirror_mode": {
    "name": "ipython",
    "version": 3
   },
   "file_extension": ".py",
   "mimetype": "text/x-python",
   "name": "python",
   "nbconvert_exporter": "python",
   "pygments_lexer": "ipython3",
   "version": "3.8.10"
  }
 },
 "nbformat": 4,
 "nbformat_minor": 5
}
